{
 "cells": [
  {
   "cell_type": "code",
   "execution_count": 1,
   "id": "1c9cdac0",
   "metadata": {},
   "outputs": [
    {
     "name": "stdout",
     "output_type": "stream",
     "text": [
      "Collecting textblob\n",
      "  Obtaining dependency information for textblob from https://files.pythonhosted.org/packages/1e/d6/40aa5aead775582ea0cf35870e5a3f16fab4b967f1ad2debe675f673f923/textblob-0.19.0-py3-none-any.whl.metadata\n",
      "  Downloading textblob-0.19.0-py3-none-any.whl.metadata (4.4 kB)\n",
      "Collecting nltk>=3.9 (from textblob)\n",
      "  Obtaining dependency information for nltk>=3.9 from https://files.pythonhosted.org/packages/4d/66/7d9e26593edda06e8cb531874633f7c2372279c3b0f46235539fe546df8b/nltk-3.9.1-py3-none-any.whl.metadata\n",
      "  Downloading nltk-3.9.1-py3-none-any.whl.metadata (2.9 kB)\n",
      "Requirement already satisfied: click in c:\\users\\vijay kumhar\\anaconda3\\lib\\site-packages (from nltk>=3.9->textblob) (8.0.4)\n",
      "Requirement already satisfied: joblib in c:\\users\\vijay kumhar\\anaconda3\\lib\\site-packages (from nltk>=3.9->textblob) (1.2.0)\n",
      "Requirement already satisfied: regex>=2021.8.3 in c:\\users\\vijay kumhar\\anaconda3\\lib\\site-packages (from nltk>=3.9->textblob) (2022.7.9)\n",
      "Requirement already satisfied: tqdm in c:\\users\\vijay kumhar\\anaconda3\\lib\\site-packages (from nltk>=3.9->textblob) (4.65.0)\n",
      "Requirement already satisfied: colorama in c:\\users\\vijay kumhar\\anaconda3\\lib\\site-packages (from click->nltk>=3.9->textblob) (0.4.6)\n",
      "Downloading textblob-0.19.0-py3-none-any.whl (624 kB)\n",
      "   ---------------------------------------- 0.0/624.3 kB ? eta -:--:--\n",
      "   ---- ----------------------------------- 71.7/624.3 kB 1.3 MB/s eta 0:00:01\n",
      "   ----------- ---------------------------- 174.1/624.3 kB 1.5 MB/s eta 0:00:01\n",
      "   ----------------- ---------------------- 276.5/624.3 kB 1.9 MB/s eta 0:00:01\n",
      "   ---------------------- ----------------- 358.4/624.3 kB 1.9 MB/s eta 0:00:01\n",
      "   ----------------------------- ---------- 460.8/624.3 kB 1.8 MB/s eta 0:00:01\n",
      "   -------------------------------- ------- 512.0/624.3 kB 1.8 MB/s eta 0:00:01\n",
      "   ---------------------------------------- 624.3/624.3 kB 1.9 MB/s eta 0:00:00\n",
      "Downloading nltk-3.9.1-py3-none-any.whl (1.5 MB)\n",
      "   ---------------------------------------- 0.0/1.5 MB ? eta -:--:--\n",
      "   - -------------------------------------- 0.1/1.5 MB 1.3 MB/s eta 0:00:02\n",
      "   ----- ---------------------------------- 0.2/1.5 MB 2.1 MB/s eta 0:00:01\n",
      "   -------- ------------------------------- 0.3/1.5 MB 2.4 MB/s eta 0:00:01\n",
      "   ----------- ---------------------------- 0.4/1.5 MB 2.4 MB/s eta 0:00:01\n",
      "   -------------- ------------------------- 0.5/1.5 MB 2.4 MB/s eta 0:00:01\n",
      "   ----------------- ---------------------- 0.7/1.5 MB 2.5 MB/s eta 0:00:01\n",
      "   -------------------- ------------------- 0.8/1.5 MB 2.5 MB/s eta 0:00:01\n",
      "   ----------------------- ---------------- 0.9/1.5 MB 2.5 MB/s eta 0:00:01\n",
      "   ------------------------- -------------- 1.0/1.5 MB 2.3 MB/s eta 0:00:01\n",
      "   --------------------------- ------------ 1.0/1.5 MB 2.3 MB/s eta 0:00:01\n",
      "   ------------------------------ --------- 1.1/1.5 MB 2.3 MB/s eta 0:00:01\n",
      "   ----------------------------------- ---- 1.3/1.5 MB 2.4 MB/s eta 0:00:01\n",
      "   ---------------------------------------  1.5/1.5 MB 2.4 MB/s eta 0:00:01\n",
      "   ---------------------------------------- 1.5/1.5 MB 2.3 MB/s eta 0:00:00\n",
      "Installing collected packages: nltk, textblob\n",
      "  Attempting uninstall: nltk\n",
      "    Found existing installation: nltk 3.8.1\n",
      "    Uninstalling nltk-3.8.1:\n",
      "      Successfully uninstalled nltk-3.8.1\n",
      "Successfully installed nltk-3.9.1 textblob-0.19.0\n",
      "Requirement already satisfied: pandas in c:\\users\\vijay kumhar\\anaconda3\\lib\\site-packages (1.5.3)\n",
      "Requirement already satisfied: python-dateutil>=2.8.1 in c:\\users\\vijay kumhar\\anaconda3\\lib\\site-packages (from pandas) (2.8.2)\n",
      "Requirement already satisfied: pytz>=2020.1 in c:\\users\\vijay kumhar\\anaconda3\\lib\\site-packages (from pandas) (2022.7)\n",
      "Requirement already satisfied: numpy>=1.21.0 in c:\\users\\vijay kumhar\\anaconda3\\lib\\site-packages (from pandas) (1.24.3)\n",
      "Requirement already satisfied: six>=1.5 in c:\\users\\vijay kumhar\\anaconda3\\lib\\site-packages (from python-dateutil>=2.8.1->pandas) (1.16.0)\n",
      "Requirement already satisfied: nltk in c:\\users\\vijay kumhar\\anaconda3\\lib\\site-packages (3.9.1)\n",
      "Requirement already satisfied: click in c:\\users\\vijay kumhar\\anaconda3\\lib\\site-packages (from nltk) (8.0.4)\n",
      "Requirement already satisfied: joblib in c:\\users\\vijay kumhar\\anaconda3\\lib\\site-packages (from nltk) (1.2.0)\n",
      "Requirement already satisfied: regex>=2021.8.3 in c:\\users\\vijay kumhar\\anaconda3\\lib\\site-packages (from nltk) (2022.7.9)\n",
      "Requirement already satisfied: tqdm in c:\\users\\vijay kumhar\\anaconda3\\lib\\site-packages (from nltk) (4.65.0)\n",
      "Requirement already satisfied: colorama in c:\\users\\vijay kumhar\\anaconda3\\lib\\site-packages (from click->nltk) (0.4.6)\n"
     ]
    }
   ],
   "source": [
    "!pip install textblob\n",
    "!pip install pandas\n",
    "!pip install nltk\n"
   ]
  },
  {
   "cell_type": "code",
   "execution_count": 2,
   "id": "302e8fc4",
   "metadata": {},
   "outputs": [
    {
     "name": "stderr",
     "output_type": "stream",
     "text": [
      "[nltk_data] Downloading package vader_lexicon to C:\\Users\\vijay\n",
      "[nltk_data]     kumhar\\AppData\\Roaming\\nltk_data...\n"
     ]
    },
    {
     "data": {
      "text/plain": [
       "True"
      ]
     },
     "execution_count": 2,
     "metadata": {},
     "output_type": "execute_result"
    }
   ],
   "source": [
    "import nltk\n",
    "nltk.download('vader_lexicon')\n"
   ]
  },
  {
   "cell_type": "code",
   "execution_count": 3,
   "id": "f3a003fb",
   "metadata": {},
   "outputs": [],
   "source": [
    "from textblob import TextBlob\n",
    "import pandas as pd\n",
    "import nltk\n",
    "from nltk.sentiment.vader import SentimentIntensityAnalyzer\n"
   ]
  },
  {
   "cell_type": "code",
   "execution_count": 10,
   "id": "72f5df35",
   "metadata": {},
   "outputs": [
    {
     "name": "stdout",
     "output_type": "stream",
     "text": [
      "Enter your email message here:\n",
      "I am really disappointed with the service. and I don't like it.\n"
     ]
    }
   ],
   "source": [
    "# You can test with this list or input manually\n",
    "\"\"\"\"emails = [\n",
    "    \"I am really disappointed with the service. Please fix this issue ASAP.\",\n",
    "    \"Thank you for the prompt support. Everything is working perfectly!\",\n",
    "    \"I have a few questions about your pricing. Please clarify.\"\n",
    "]\"\"\"\n",
    "\n",
    "# You can also use input() to test live\n",
    "# email = input(\"Enter your email message: \")\n",
    "\n",
    "# Ask user to enter a single email message\n",
    "email = input(\"Enter your email message here:\\n\")\n",
    "\n",
    "# Store the email in a list to keep the rest of the code consistent\n",
    "emails = [email]\n",
    "\n"
   ]
  },
  {
   "cell_type": "code",
   "execution_count": 11,
   "id": "e7c2fa56",
   "metadata": {},
   "outputs": [],
   "source": [
    "def analyze_sentiment(email_text):\n",
    "    # Use TextBlob\n",
    "    blob = TextBlob(email_text)\n",
    "    polarity = blob.sentiment.polarity\n",
    "\n",
    "    # Use VADER\n",
    "    sid = SentimentIntensityAnalyzer()\n",
    "    scores = sid.polarity_scores(email_text)\n",
    "    compound = scores['compound']\n",
    "\n",
    "    # Final judgment (based on compound score)\n",
    "    if compound >= 0.3:\n",
    "        return \"Positive\"\n",
    "    elif compound <= -0.3:\n",
    "        return \"Negative\"\n",
    "    else:\n",
    "        return \"Neutral\"\n"
   ]
  },
  {
   "cell_type": "code",
   "execution_count": 12,
   "id": "3ac82660",
   "metadata": {},
   "outputs": [],
   "source": [
    "def generate_response(sentiment):\n",
    "    if sentiment == \"Positive\":\n",
    "        return \"We're thrilled to hear that! Thank you for your kind feedback.\"\n",
    "    elif sentiment == \"Negative\":\n",
    "        return \"We apologize for the inconvenience. Our team will reach out to resolve this quickly.\"\n",
    "    else:\n",
    "        return \"Thanks for reaching out! We'll get back to you shortly with more information.\"\n"
   ]
  },
  {
   "cell_type": "code",
   "execution_count": 13,
   "id": "61be8358",
   "metadata": {},
   "outputs": [
    {
     "data": {
      "text/html": [
       "<div>\n",
       "<style scoped>\n",
       "    .dataframe tbody tr th:only-of-type {\n",
       "        vertical-align: middle;\n",
       "    }\n",
       "\n",
       "    .dataframe tbody tr th {\n",
       "        vertical-align: top;\n",
       "    }\n",
       "\n",
       "    .dataframe thead th {\n",
       "        text-align: right;\n",
       "    }\n",
       "</style>\n",
       "<table border=\"1\" class=\"dataframe\">\n",
       "  <thead>\n",
       "    <tr style=\"text-align: right;\">\n",
       "      <th></th>\n",
       "      <th>Email</th>\n",
       "      <th>Sentiment</th>\n",
       "      <th>Response</th>\n",
       "    </tr>\n",
       "  </thead>\n",
       "  <tbody>\n",
       "    <tr>\n",
       "      <th>0</th>\n",
       "      <td>I am really disappointed with the service. and...</td>\n",
       "      <td>Negative</td>\n",
       "      <td>We apologize for the inconvenience. Our team w...</td>\n",
       "    </tr>\n",
       "  </tbody>\n",
       "</table>\n",
       "</div>"
      ],
      "text/plain": [
       "                                               Email Sentiment  \\\n",
       "0  I am really disappointed with the service. and...  Negative   \n",
       "\n",
       "                                            Response  \n",
       "0  We apologize for the inconvenience. Our team w...  "
      ]
     },
     "execution_count": 13,
     "metadata": {},
     "output_type": "execute_result"
    }
   ],
   "source": [
    "data = []\n",
    "\n",
    "for email in emails:\n",
    "    sentiment = analyze_sentiment(email)\n",
    "    response = generate_response(sentiment)\n",
    "    data.append({'Email': email, 'Sentiment': sentiment, 'Response': response})\n",
    "\n",
    "df = pd.DataFrame(data)\n",
    "df\n"
   ]
  },
  {
   "cell_type": "code",
   "execution_count": 14,
   "id": "1a3df224",
   "metadata": {},
   "outputs": [],
   "source": [
    "df.to_csv(\"sentiment_email_responses.csv\", index=False)\n"
   ]
  },
  {
   "cell_type": "code",
   "execution_count": 15,
   "id": "276ae6d3",
   "metadata": {},
   "outputs": [
    {
     "data": {
      "image/png": "[encoded data removed]",
      "text/plain": [
       "<Figure size 640x480 with 1 Axes>"
      ]
     },
     "metadata": {},
     "output_type": "display_data"
    }
   ],
   "source": [
    "import matplotlib.pyplot as plt\n",
    "\n",
    "df['Sentiment'].value_counts().plot.pie(autopct='%1.1f%%', colors=['green', 'orange', 'red'])\n",
    "plt.title(\"Email Sentiment Distribution\")\n",
    "plt.ylabel('')\n",
    "plt.show()\n"
   ]
  },
  {
   "cell_type": "code",
   "execution_count": null,
   "id": "ae85ea2a",
   "metadata": {},
   "outputs": [],
   "source": []
  }
 ],
 "metadata": {
  "kernelspec": {
   "display_name": "Python 3 (ipykernel)",
   "language": "python",
   "name": "python3"
  },
  "language_info": {
   "codemirror_mode": {
    "name": "ipython",
    "version": 3
   },
   "file_extension": ".py",
   "mimetype": "text/x-python",
   "name": "python",
   "nbconvert_exporter": "python",
   "pygments_lexer": "ipython3",
   "version": "3.11.4"
  }
 },
 "nbformat": 4,
 "nbformat_minor": 5
}
